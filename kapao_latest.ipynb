{
  "cells": [
    {
      "cell_type": "markdown",
      "metadata": {
        "id": "view-in-github",
        "colab_type": "text"
      },
      "source": [
        "<a href=\"https://colab.research.google.com/github/cedro3/kapao/blob/master/kapao_latest.ipynb\" target=\"_parent\"><img src=\"https://colab.research.google.com/assets/colab-badge.svg\" alt=\"Open In Colab\"/></a>"
      ]
    },
    {
      "cell_type": "code",
      "execution_count": null,
      "metadata": {
        "id": "7SBpxYw6pa3E",
        "cellView": "form"
      },
      "outputs": [],
      "source": [
        "#@title セットアップ\n",
        "\n",
        "# githubからコードを取得\n",
        "! git clone https://github.com/wmcnally/kapao.git\n",
        "%cd kapao\n",
        "\n",
        "# ライブラリー・インストール\n",
        "! pip install -r requirements.txt\n",
        "\n",
        "# 学習済みパラメータ・ダウンロード\n",
        "! python data/scripts/download_models.py\n",
        "\n",
        "# ビデオ長さ取得関数\n",
        "from moviepy.editor import *\n",
        "def get_duration(file_path):\n",
        "    clip = VideoFileClip(file_path)\n",
        "    return int(clip.duration) "
      ]
    },
    {
      "cell_type": "code",
      "execution_count": null,
      "metadata": {
        "id": "_R8qWDRk5zLB",
        "cellView": "form"
      },
      "outputs": [],
      "source": [
        "#@title イカゲームの姿勢推定デモ\n",
        "\n",
        "# 姿勢推定\n",
        "! python demos/video.py --yt-id nrchfeybHmw\\\n",
        "                        --imgsz 1024\\\n",
        "                        --weights kapao_l_coco.pt\\\n",
        "                        --conf-thres-kp 0.01\\\n",
        "                        --kp-obj\\\n",
        "                        --face\\\n",
        "                        --start 56\\\n",
        "                        --end 72\n",
        "\n",
        "# 出力ファイルの設定\n",
        "out_path = 'nrchfeybHmw_480p_kapao_l_coco_gpu.mp4'\n",
        "\n",
        "# 動画の再生\n",
        "from IPython.display import HTML\n",
        "from base64 import b64encode\n",
        "mp4 = open(out_path, 'rb').read()\n",
        "data_url = 'data:video/mp4;base64,' + b64encode(mp4).decode()\n",
        "HTML(f\"\"\"\n",
        "<video width=\"70%\" height=\"70%\" controls>\n",
        "      <source src=\"{data_url}\" type=\"video/mp4\">\n",
        "</video>\"\"\")"
      ]
    },
    {
      "cell_type": "code",
      "execution_count": null,
      "metadata": {
        "id": "66MIV-ps8XiV",
        "cellView": "form"
      },
      "outputs": [],
      "source": [
        "#@title スカッシュの姿勢推定デモ\n",
        "! python demos/squash.py --start 42 --end 50\n",
        "\n",
        "# 出力ファイルの設定\n",
        "out_path = 'squash_inference_kapao_s_coco.mp4'\n",
        "\n",
        "# 動画の再生\n",
        "from IPython.display import HTML\n",
        "from base64 import b64encode\n",
        "mp4 = open(out_path, 'rb').read()\n",
        "data_url = 'data:video/mp4;base64,' + b64encode(mp4).decode()\n",
        "HTML(f\"\"\"\n",
        "<video width=\"70%\" height=\"70%\" controls>\n",
        "      <source src=\"{data_url}\" type=\"video/mp4\">\n",
        "</video>\"\"\")"
      ]
    },
    {
      "cell_type": "code",
      "execution_count": null,
      "metadata": {
        "id": "hpvll2Yhq5xq",
        "cellView": "form"
      },
      "outputs": [],
      "source": [
        "#@title 静止画の姿勢推定\n",
        "#@markdown ・resフォルダ内の静止画ファイルを指定\n",
        "# 画像ファイル指定\n",
        "image = 'crowdpose_100024.jpg' #@param {type:\"string\"}\n",
        "image_path = 'res/'+image\n",
        "\n",
        "# 姿勢推定\n",
        "! python demos/image.py -p $image_path\\\n",
        "                        --bbox\\\n",
        "                        --pose\\\n",
        "                        --face\\\n",
        "                        --color-pose 255 255 255\\\n",
        "                        --color-kp 255 255 255\n",
        "\n",
        "# 画像表示                                  \n",
        "from IPython.display import Image,display_png\n",
        "out_path = os.path.splitext(image)[0]+'_kapao_l_coco_bbox_pose_face_kp_obj.png'\n",
        "display_png(Image(out_path))"
      ]
    },
    {
      "cell_type": "code",
      "execution_count": null,
      "metadata": {
        "id": "w-LDZPcG5bpy",
        "cellView": "form"
      },
      "outputs": [],
      "source": [
        "#@title 動画の姿勢推定\n",
        "#@markdown ・resフォルダ内の動画ファイル（mp4）を指定\\\n",
        "#@markdown ・推定結果はoutput.mp4に出力されます\n",
        "\n",
        "# 動画指定\n",
        "video = '' #@param {type:\"string\"}\n",
        "video_path = 'res/'+video\n",
        "duration = get_duration(video_path)+1  # ビデオ長さ\n",
        "\n",
        "# 姿勢推定\n",
        "! python demos/video.py -p $video_path\\\n",
        "                        --weights kapao_l_coco.pt\\\n",
        "                        --conf-thres-kp 0.01\\\n",
        "                        --kp-obj\\\n",
        "                        --face\\\n",
        "                        --start 0\\\n",
        "                        --end $duration\n",
        "\n",
        "# 出力をoutput.mp4にコピー\n",
        "import shutil\n",
        "out_path = 'res/'+os.path.splitext(video)[0]+'_kapao_l_coco_gpu.mp4'\n",
        "shutil.copy(out_path, 'output.mp4')"
      ]
    }
  ],
  "metadata": {
    "accelerator": "GPU",
    "colab": {
      "collapsed_sections": [],
      "name": "kapao_latest",
      "provenance": [],
      "authorship_tag": "ABX9TyPCPAA2cBylF8Hnc5n9IYKM",
      "include_colab_link": true
    },
    "kernelspec": {
      "display_name": "Python 3",
      "name": "python3"
    },
    "language_info": {
      "name": "python"
    }
  },
  "nbformat": 4,
  "nbformat_minor": 0
}