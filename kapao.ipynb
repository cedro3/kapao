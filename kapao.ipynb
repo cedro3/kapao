{
  "nbformat": 4,
  "nbformat_minor": 0,
  "metadata": {
    "accelerator": "GPU",
    "colab": {
      "name": "kapao",
      "provenance": [],
      "collapsed_sections": [],
      "mount_file_id": "1iQW_EfA8dJpwCCVDHzQ0Aj6V5mR-E1gf",
      "authorship_tag": "ABX9TyP2r6fXO8X3mqcRWyCeAvSX",
      "include_colab_link": true
    },
    "kernelspec": {
      "display_name": "Python 3",
      "name": "python3"
    },
    "language_info": {
      "name": "python"
    }
  },
  "cells": [
    {
      "cell_type": "markdown",
      "metadata": {
        "id": "view-in-github",
        "colab_type": "text"
      },
      "source": [
        "<a href=\"https://colab.research.google.com/github/cedro3/kapao/blob/master/kapao.ipynb\" target=\"_parent\"><img src=\"https://colab.research.google.com/assets/colab-badge.svg\" alt=\"Open In Colab\"/></a>"
      ]
    },
    {
      "cell_type": "markdown",
      "metadata": {
        "id": "MDlpWE5Ch3AH"
      },
      "source": [
        "### セットアップ"
      ]
    },
    {
      "cell_type": "code",
      "metadata": {
        "id": "cM_jrDmC8HbG"
      },
      "source": [
        "# githubからコードを取得\n",
        "! git clone https://github.com/cedro3/kapao.git\n",
        "%cd kapao\n",
        "\n",
        "# ライブラリー・インストール\n",
        "! pip install torch==1.9.1\n",
        "! pip install torchvision==0.10.1\n",
        "! pip install pytube\n",
        "! pip install imageio==2.4.1\n",
        "! pip install -r requirements.txt\n",
        "\n",
        "# 学習済みパラメータ・ダウンロード\n",
        "! sh data/scripts/download_models.sh"
      ],
      "execution_count": null,
      "outputs": []
    },
    {
      "cell_type": "markdown",
      "metadata": {
        "id": "JS6j3QSDfU9Q"
      },
      "source": [
        "### デモ１（Youtubeから自動で動画をダウンロードして使用）\n"
      ]
    },
    {
      "cell_type": "code",
      "metadata": {
        "id": "QO5xbRQfAl_F"
      },
      "source": [
        "# flash_mob_demo\n",
        "! python demos/flash_mob.py --weights kapao_s_coco.pt --start 188 --end 196 "
      ],
      "execution_count": null,
      "outputs": []
    },
    {
      "cell_type": "code",
      "metadata": {
        "id": "0EJflwe6pYk6"
      },
      "source": [
        "# コーデック変換（MPEG-4 Video > H.264） \n",
        "! ffmpeg -i flash_mob_inference_kapao_s_coco.mp4 -vcodec h264 -acodec mp3 flash_mob.mp4"
      ],
      "execution_count": null,
      "outputs": []
    },
    {
      "cell_type": "markdown",
      "metadata": {
        "id": "ncIDOjP_DJj6"
      },
      "source": [
        "**＊作成した動画は flash_mob.mp4 に保存されています**"
      ]
    },
    {
      "cell_type": "code",
      "metadata": {
        "id": "jhVMFmp2pm4T"
      },
      "source": [
        "# 動画の再生\n",
        "from IPython.display import HTML\n",
        "from base64 import b64encode\n",
        "\n",
        "mp4 = open('./flash_mob.mp4', 'rb').read()\n",
        "data_url = 'data:video/mp4;base64,' + b64encode(mp4).decode()\n",
        "HTML(f\"\"\"\n",
        "<video width=\"70%\" height=\"70%\" controls>\n",
        "      <source src=\"{data_url}\" type=\"video/mp4\">\n",
        "</video>\"\"\")"
      ],
      "execution_count": null,
      "outputs": []
    },
    {
      "cell_type": "markdown",
      "metadata": {
        "id": "Ojwq1_JnfYx6"
      },
      "source": [
        "### デモ２（movieフォルダーの動画を使用）\n"
      ]
    },
    {
      "cell_type": "code",
      "metadata": {
        "id": "V0pAny8eLCcy"
      },
      "source": [
        "! python test.py --name './movie/sample.mp4' --weights kapao_s_coco.pt --start 0 --end 8                                 "
      ],
      "execution_count": null,
      "outputs": []
    },
    {
      "cell_type": "code",
      "metadata": {
        "id": "Kw0zfJORnm-L"
      },
      "source": [
        "# コーデック変換（MPEG-4 Video > H.264） \n",
        "! ffmpeg -i output.mp4 -vcodec h264 -acodec mp3 out.mp4"
      ],
      "execution_count": null,
      "outputs": []
    },
    {
      "cell_type": "markdown",
      "metadata": {
        "id": "t2_iHoYnC5KY"
      },
      "source": [
        "**＊作成した動画は out.mp4 に保存されています**"
      ]
    },
    {
      "cell_type": "code",
      "metadata": {
        "id": "dQZC7kYVpBxG"
      },
      "source": [
        "# 動画の再生\n",
        "from IPython.display import HTML\n",
        "from base64 import b64encode\n",
        "\n",
        "mp4 = open('./out.mp4', 'rb').read()\n",
        "data_url = 'data:video/mp4;base64,' + b64encode(mp4).decode()\n",
        "HTML(f\"\"\"\n",
        "<video width=\"70%\" height=\"70%\" controls>\n",
        "      <source src=\"{data_url}\" type=\"video/mp4\">\n",
        "</video>\"\"\")"
      ],
      "execution_count": null,
      "outputs": []
    }
  ]
}
